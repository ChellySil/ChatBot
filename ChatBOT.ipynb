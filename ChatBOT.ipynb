{
  "nbformat": 4,
  "nbformat_minor": 0,
  "metadata": {
    "colab": {
      "provenance": [],
      "authorship_tag": "ABX9TyOzbyIZCcLj9mw8StP6AZv0",
      "include_colab_link": true
    },
    "kernelspec": {
      "name": "python3",
      "display_name": "Python 3"
    },
    "language_info": {
      "name": "python"
    }
  },
  "cells": [
    {
      "cell_type": "markdown",
      "metadata": {
        "id": "view-in-github",
        "colab_type": "text"
      },
      "source": [
        "<a href=\"https://colab.research.google.com/github/ChellySil/ChatBot/blob/main/ChatBOT.ipynb\" target=\"_parent\"><img src=\"https://colab.research.google.com/assets/colab-badge.svg\" alt=\"Open In Colab\"/></a>"
      ]
    },
    {
      "cell_type": "code",
      "execution_count": 17,
      "metadata": {
        "colab": {
          "base_uri": "https://localhost:8080/"
        },
        "id": "xm4YpCbjwoR4",
        "outputId": "ddbb4be6-2319-4ccf-ea31-2bcdad651f8b"
      },
      "outputs": [
        {
          "output_type": "stream",
          "name": "stdout",
          "text": [
            "Olá eu sou o ChatBOT, como posso ajudar você hoje?\n",
            "Qual o seu nome\n",
            "Eu sou o ChatBOT\n",
            "Como vai?\n",
            "Estou bem e você?\n",
            "Adeus\n",
            "Tchau\n"
          ]
        }
      ],
      "source": [
        "import nltk\n",
        "from nltk.chat.util import Chat, reflections\n",
        "\n",
        "pares = [\n",
        "    \n",
        "    [\n",
        "        r\"oi|ola|hello|hey|hi\",\n",
        "     [\"Oi\",\"Olá\",\"Hello\", \"Hey\", \"Hi\"]\n",
        "\n",
        "    ],\n",
        "\n",
        "    [\n",
        "      r\"Qual o seu nome\", \n",
        "     [\"Eu sou o ChatBOT\", \"Meu nome é ChatBOT\"] \n",
        "\n",
        "    ],\n",
        "\n",
        "    [\n",
        "        r\"Como você está?|Como vai?|Como está se sentindo?\",\n",
        "        [\"Eu estou muito bem, espero que você também esteja\", \"Estou bem e você?\"]\n",
        "    ],\n",
        "\n",
        "    [\n",
        "        r\"Adeus|Tchau|Bye\",\n",
        "        [\"Até a apróxima\", \"Tchau\", \"Adeus\", \"ByeBye\"]\n",
        "    ]\n",
        "]\n",
        "\n",
        "def chatbot():\n",
        "  print(\"Olá eu sou o ChatBOT, como posso ajudar você hoje?\")\n",
        "  chat = Chat(pares, reflections)\n",
        "\n",
        "  while True:\n",
        "     try:\n",
        "        resposta = chat.respond(input())\n",
        "        print(resposta)\n",
        "     except KeyboardInterrupt:\n",
        "       break\n",
        "\n",
        "chatbot()\n"
      ]
    }
  ]
}